{
 "cells": [
  {
   "cell_type": "code",
   "execution_count": 4,
   "id": "e5522eee",
   "metadata": {},
   "outputs": [],
   "source": [
    "\n",
    "import pandas as pd\n",
    "import numpy as np\n",
    "import mlflow\n",
    "import mlflow.sklearn\n"
   ]
  },
  {
   "cell_type": "code",
   "execution_count": 5,
   "id": "d21653df",
   "metadata": {},
   "outputs": [],
   "source": [
    "from sklearn.datasets import load_breast_cancer\n",
    "cancer = load_breast_cancer()"
   ]
  },
  {
   "cell_type": "code",
   "execution_count": 6,
   "id": "57338eb9",
   "metadata": {},
   "outputs": [
    {
     "data": {
      "text/html": [
       "<div>\n",
       "<style scoped>\n",
       "    .dataframe tbody tr th:only-of-type {\n",
       "        vertical-align: middle;\n",
       "    }\n",
       "\n",
       "    .dataframe tbody tr th {\n",
       "        vertical-align: top;\n",
       "    }\n",
       "\n",
       "    .dataframe thead th {\n",
       "        text-align: right;\n",
       "    }\n",
       "</style>\n",
       "<table border=\"1\" class=\"dataframe\">\n",
       "  <thead>\n",
       "    <tr style=\"text-align: right;\">\n",
       "      <th></th>\n",
       "      <th>mean radius</th>\n",
       "      <th>mean texture</th>\n",
       "      <th>mean perimeter</th>\n",
       "      <th>mean area</th>\n",
       "      <th>mean smoothness</th>\n",
       "      <th>mean compactness</th>\n",
       "      <th>mean concavity</th>\n",
       "      <th>mean concave points</th>\n",
       "      <th>mean symmetry</th>\n",
       "      <th>mean fractal dimension</th>\n",
       "      <th>...</th>\n",
       "      <th>worst texture</th>\n",
       "      <th>worst perimeter</th>\n",
       "      <th>worst area</th>\n",
       "      <th>worst smoothness</th>\n",
       "      <th>worst compactness</th>\n",
       "      <th>worst concavity</th>\n",
       "      <th>worst concave points</th>\n",
       "      <th>worst symmetry</th>\n",
       "      <th>worst fractal dimension</th>\n",
       "      <th>target</th>\n",
       "    </tr>\n",
       "  </thead>\n",
       "  <tbody>\n",
       "    <tr>\n",
       "      <th>0</th>\n",
       "      <td>17.99</td>\n",
       "      <td>10.38</td>\n",
       "      <td>122.80</td>\n",
       "      <td>1001.0</td>\n",
       "      <td>0.11840</td>\n",
       "      <td>0.27760</td>\n",
       "      <td>0.3001</td>\n",
       "      <td>0.14710</td>\n",
       "      <td>0.2419</td>\n",
       "      <td>0.07871</td>\n",
       "      <td>...</td>\n",
       "      <td>17.33</td>\n",
       "      <td>184.60</td>\n",
       "      <td>2019.0</td>\n",
       "      <td>0.1622</td>\n",
       "      <td>0.6656</td>\n",
       "      <td>0.7119</td>\n",
       "      <td>0.2654</td>\n",
       "      <td>0.4601</td>\n",
       "      <td>0.11890</td>\n",
       "      <td>0</td>\n",
       "    </tr>\n",
       "    <tr>\n",
       "      <th>1</th>\n",
       "      <td>20.57</td>\n",
       "      <td>17.77</td>\n",
       "      <td>132.90</td>\n",
       "      <td>1326.0</td>\n",
       "      <td>0.08474</td>\n",
       "      <td>0.07864</td>\n",
       "      <td>0.0869</td>\n",
       "      <td>0.07017</td>\n",
       "      <td>0.1812</td>\n",
       "      <td>0.05667</td>\n",
       "      <td>...</td>\n",
       "      <td>23.41</td>\n",
       "      <td>158.80</td>\n",
       "      <td>1956.0</td>\n",
       "      <td>0.1238</td>\n",
       "      <td>0.1866</td>\n",
       "      <td>0.2416</td>\n",
       "      <td>0.1860</td>\n",
       "      <td>0.2750</td>\n",
       "      <td>0.08902</td>\n",
       "      <td>0</td>\n",
       "    </tr>\n",
       "    <tr>\n",
       "      <th>2</th>\n",
       "      <td>19.69</td>\n",
       "      <td>21.25</td>\n",
       "      <td>130.00</td>\n",
       "      <td>1203.0</td>\n",
       "      <td>0.10960</td>\n",
       "      <td>0.15990</td>\n",
       "      <td>0.1974</td>\n",
       "      <td>0.12790</td>\n",
       "      <td>0.2069</td>\n",
       "      <td>0.05999</td>\n",
       "      <td>...</td>\n",
       "      <td>25.53</td>\n",
       "      <td>152.50</td>\n",
       "      <td>1709.0</td>\n",
       "      <td>0.1444</td>\n",
       "      <td>0.4245</td>\n",
       "      <td>0.4504</td>\n",
       "      <td>0.2430</td>\n",
       "      <td>0.3613</td>\n",
       "      <td>0.08758</td>\n",
       "      <td>0</td>\n",
       "    </tr>\n",
       "    <tr>\n",
       "      <th>3</th>\n",
       "      <td>11.42</td>\n",
       "      <td>20.38</td>\n",
       "      <td>77.58</td>\n",
       "      <td>386.1</td>\n",
       "      <td>0.14250</td>\n",
       "      <td>0.28390</td>\n",
       "      <td>0.2414</td>\n",
       "      <td>0.10520</td>\n",
       "      <td>0.2597</td>\n",
       "      <td>0.09744</td>\n",
       "      <td>...</td>\n",
       "      <td>26.50</td>\n",
       "      <td>98.87</td>\n",
       "      <td>567.7</td>\n",
       "      <td>0.2098</td>\n",
       "      <td>0.8663</td>\n",
       "      <td>0.6869</td>\n",
       "      <td>0.2575</td>\n",
       "      <td>0.6638</td>\n",
       "      <td>0.17300</td>\n",
       "      <td>0</td>\n",
       "    </tr>\n",
       "    <tr>\n",
       "      <th>4</th>\n",
       "      <td>20.29</td>\n",
       "      <td>14.34</td>\n",
       "      <td>135.10</td>\n",
       "      <td>1297.0</td>\n",
       "      <td>0.10030</td>\n",
       "      <td>0.13280</td>\n",
       "      <td>0.1980</td>\n",
       "      <td>0.10430</td>\n",
       "      <td>0.1809</td>\n",
       "      <td>0.05883</td>\n",
       "      <td>...</td>\n",
       "      <td>16.67</td>\n",
       "      <td>152.20</td>\n",
       "      <td>1575.0</td>\n",
       "      <td>0.1374</td>\n",
       "      <td>0.2050</td>\n",
       "      <td>0.4000</td>\n",
       "      <td>0.1625</td>\n",
       "      <td>0.2364</td>\n",
       "      <td>0.07678</td>\n",
       "      <td>0</td>\n",
       "    </tr>\n",
       "  </tbody>\n",
       "</table>\n",
       "<p>5 rows × 31 columns</p>\n",
       "</div>"
      ],
      "text/plain": [
       "   mean radius  mean texture  mean perimeter  mean area  mean smoothness  \\\n",
       "0        17.99         10.38          122.80     1001.0          0.11840   \n",
       "1        20.57         17.77          132.90     1326.0          0.08474   \n",
       "2        19.69         21.25          130.00     1203.0          0.10960   \n",
       "3        11.42         20.38           77.58      386.1          0.14250   \n",
       "4        20.29         14.34          135.10     1297.0          0.10030   \n",
       "\n",
       "   mean compactness  mean concavity  mean concave points  mean symmetry  \\\n",
       "0           0.27760          0.3001              0.14710         0.2419   \n",
       "1           0.07864          0.0869              0.07017         0.1812   \n",
       "2           0.15990          0.1974              0.12790         0.2069   \n",
       "3           0.28390          0.2414              0.10520         0.2597   \n",
       "4           0.13280          0.1980              0.10430         0.1809   \n",
       "\n",
       "   mean fractal dimension  ...  worst texture  worst perimeter  worst area  \\\n",
       "0                 0.07871  ...          17.33           184.60      2019.0   \n",
       "1                 0.05667  ...          23.41           158.80      1956.0   \n",
       "2                 0.05999  ...          25.53           152.50      1709.0   \n",
       "3                 0.09744  ...          26.50            98.87       567.7   \n",
       "4                 0.05883  ...          16.67           152.20      1575.0   \n",
       "\n",
       "   worst smoothness  worst compactness  worst concavity  worst concave points  \\\n",
       "0            0.1622             0.6656           0.7119                0.2654   \n",
       "1            0.1238             0.1866           0.2416                0.1860   \n",
       "2            0.1444             0.4245           0.4504                0.2430   \n",
       "3            0.2098             0.8663           0.6869                0.2575   \n",
       "4            0.1374             0.2050           0.4000                0.1625   \n",
       "\n",
       "   worst symmetry  worst fractal dimension  target  \n",
       "0          0.4601                  0.11890       0  \n",
       "1          0.2750                  0.08902       0  \n",
       "2          0.3613                  0.08758       0  \n",
       "3          0.6638                  0.17300       0  \n",
       "4          0.2364                  0.07678       0  \n",
       "\n",
       "[5 rows x 31 columns]"
      ]
     },
     "execution_count": 6,
     "metadata": {},
     "output_type": "execute_result"
    }
   ],
   "source": [
    "df = pd.DataFrame(cancer['data'], columns=cancer['feature_names'])\n",
    "df['target'] = cancer['target']\n",
    "df.head()"
   ]
  },
  {
   "cell_type": "code",
   "execution_count": 7,
   "id": "f8363502",
   "metadata": {},
   "outputs": [],
   "source": [
    "from sklearn.model_selection import train_test_split\n",
    "from sklearn.ensemble import RandomForestClassifier\n",
    "\n",
    "from sklearn.pipeline import Pipeline\n",
    "from sklearn.preprocessing import StandardScaler"
   ]
  },
  {
   "cell_type": "code",
   "execution_count": 9,
   "id": "6807630c",
   "metadata": {},
   "outputs": [],
   "source": [
    "\n",
    "#Pull out some test data to us with the mlflow model api.\n",
    "\n",
    "\n",
    "train, test = train_test_split(df, test_size=0.2)\n",
    "test_target = test['target']\n",
    "test[['target']].to_csv('test-target.csv', index=False)\n",
    "del test['target']\n",
    "test.to_csv('test.csv', index=False)"
   ]
  },
  {
   "cell_type": "code",
   "execution_count": 10,
   "id": "8b4ba888",
   "metadata": {},
   "outputs": [
    {
     "data": {
      "text/plain": [
       "Pipeline(steps=[('preprocessor',\n",
       "                 Pipeline(steps=[('scaler', StandardScaler())])),\n",
       "                ('randomforestclassifier',\n",
       "                 RandomForestClassifier(class_weight='balanced',\n",
       "                                        min_samples_leaf=2,\n",
       "                                        random_state=123))])"
      ]
     },
     "execution_count": 10,
     "metadata": {},
     "output_type": "execute_result"
    }
   ],
   "source": [
    "#Split training data, build a pipeline, and train a model.\n",
    "\n",
    "\n",
    "features = [x for x in list(train.columns) if x != 'target']\n",
    "x_raw = train[features]\n",
    "y_raw = train['target']\n",
    "\n",
    "x_train, x_test, y_train, y_test = train_test_split(x_raw, y_raw,\n",
    "                                                            test_size=.20,\n",
    "                                                            random_state=123,\n",
    "                                                            stratify=y_raw)\n",
    "clf = RandomForestClassifier(n_estimators=100,\n",
    "                            min_samples_leaf=2,\n",
    "                            class_weight='balanced',\n",
    "                            random_state=123)\n",
    "\n",
    "preprocessor = Pipeline(steps=[('scaler', StandardScaler())])\n",
    "\n",
    "model = Pipeline(steps=[('preprocessor', preprocessor),\n",
    "                           ('randomforestclassifier', clf)])\n",
    "model.fit(x_train, y_train)"
   ]
  },
  {
   "cell_type": "code",
   "execution_count": 13,
   "id": "c84e966a",
   "metadata": {},
   "outputs": [
    {
     "data": {
      "text/plain": [
       "0.9945054945054945"
      ]
     },
     "execution_count": 13,
     "metadata": {},
     "output_type": "execute_result"
    }
   ],
   "source": [
    "#Check out some model metrics.\n",
    "\n",
    "accuracy_train = model.score(x_train, y_train)\n",
    "accuracy_train\n"
   ]
  },
  {
   "cell_type": "code",
   "execution_count": 14,
   "id": "48fb2872",
   "metadata": {},
   "outputs": [
    {
     "data": {
      "text/plain": [
       "0.967032967032967"
      ]
     },
     "execution_count": 14,
     "metadata": {},
     "output_type": "execute_result"
    }
   ],
   "source": [
    "\n",
    "model.score(x_test, y_test)"
   ]
  },
  {
   "cell_type": "code",
   "execution_count": 11,
   "id": "2e300e40",
   "metadata": {},
   "outputs": [
    {
     "data": {
      "text/plain": [
       "{'memory': None,\n",
       " 'steps': [('preprocessor', Pipeline(steps=[('scaler', StandardScaler())])),\n",
       "  ('randomforestclassifier',\n",
       "   RandomForestClassifier(class_weight='balanced', min_samples_leaf=2,\n",
       "                          random_state=123))],\n",
       " 'verbose': False,\n",
       " 'preprocessor': Pipeline(steps=[('scaler', StandardScaler())]),\n",
       " 'randomforestclassifier': RandomForestClassifier(class_weight='balanced', min_samples_leaf=2,\n",
       "                        random_state=123),\n",
       " 'preprocessor__memory': None,\n",
       " 'preprocessor__steps': [('scaler', StandardScaler())],\n",
       " 'preprocessor__verbose': False,\n",
       " 'preprocessor__scaler': StandardScaler(),\n",
       " 'preprocessor__scaler__copy': True,\n",
       " 'preprocessor__scaler__with_mean': True,\n",
       " 'preprocessor__scaler__with_std': True,\n",
       " 'randomforestclassifier__bootstrap': True,\n",
       " 'randomforestclassifier__ccp_alpha': 0.0,\n",
       " 'randomforestclassifier__class_weight': 'balanced',\n",
       " 'randomforestclassifier__criterion': 'gini',\n",
       " 'randomforestclassifier__max_depth': None,\n",
       " 'randomforestclassifier__max_features': 'auto',\n",
       " 'randomforestclassifier__max_leaf_nodes': None,\n",
       " 'randomforestclassifier__max_samples': None,\n",
       " 'randomforestclassifier__min_impurity_decrease': 0.0,\n",
       " 'randomforestclassifier__min_samples_leaf': 2,\n",
       " 'randomforestclassifier__min_samples_split': 2,\n",
       " 'randomforestclassifier__min_weight_fraction_leaf': 0.0,\n",
       " 'randomforestclassifier__n_estimators': 100,\n",
       " 'randomforestclassifier__n_jobs': None,\n",
       " 'randomforestclassifier__oob_score': False,\n",
       " 'randomforestclassifier__random_state': 123,\n",
       " 'randomforestclassifier__verbose': 0,\n",
       " 'randomforestclassifier__warm_start': False}"
      ]
     },
     "execution_count": 11,
     "metadata": {},
     "output_type": "execute_result"
    }
   ],
   "source": [
    "\n",
    "\n",
    "model.get_params()\n"
   ]
  },
  {
   "cell_type": "code",
   "execution_count": 15,
   "id": "d892f634",
   "metadata": {},
   "outputs": [],
   "source": [
    "#update model to give probabilities instead of binary target.\n",
    "\n",
    "def overwrite_predict(func):\n",
    "        def wrapper(*args, **kwargs):\n",
    "            result = func(*args, **kwargs)\n",
    "            return [round(x, 4) for x in result[:, 1]]\n",
    "        return wrapper\n",
    "\n",
    "model.predict = overwrite_predict(model.predict_proba)\n",
    "\n"
   ]
  },
  {
   "cell_type": "code",
   "execution_count": 16,
   "id": "33a585a5",
   "metadata": {},
   "outputs": [
    {
     "name": "stderr",
     "output_type": "stream",
     "text": [
      "2023/11/05 11:39:22 INFO mlflow.tracking.fluent: Experiment with name 'my-experiment' does not exist. Creating a new experiment.\n"
     ]
    },
    {
     "data": {
      "text/plain": [
       "<Experiment: artifact_location='mlflow-artifacts:/142079793624959880', creation_time=1699164562519, experiment_id='142079793624959880', last_update_time=1699164562519, lifecycle_stage='active', name='my-experiment', tags={}>"
      ]
     },
     "execution_count": 16,
     "metadata": {},
     "output_type": "execute_result"
    }
   ],
   "source": [
    "#Set mlflow configuration.\n",
    "mlflow.set_tracking_uri(\"http://localhost:5000\")\n",
    "mlflow.set_experiment(\"my-experiment\")"
   ]
  },
  {
   "cell_type": "code",
   "execution_count": 17,
   "id": "bf6460d1",
   "metadata": {},
   "outputs": [
    {
     "name": "stderr",
     "output_type": "stream",
     "text": [
      "2023/11/05 11:39:57 WARNING mlflow.utils.git_utils: Failed to import Git (the Git executable is probably not on your PATH), so Git SHA is not available. Error: Failed to initialize: Bad git executable.\n",
      "The git executable must be specified in one of the following ways:\n",
      "    - be included in your $PATH\n",
      "    - be set via $GIT_PYTHON_GIT_EXECUTABLE\n",
      "    - explicitly set via git.refresh()\n",
      "\n",
      "All git commands will error until this is rectified.\n",
      "\n",
      "This initial warning can be silenced or aggravated in the future by setting the\n",
      "$GIT_PYTHON_REFRESH environment variable. Use one of the following values:\n",
      "    - quiet|q|silence|s|none|n|0: for no warning or exception\n",
      "    - warn|w|warning|1: for a printed warning\n",
      "    - error|e|raise|r|2: for a raised exception\n",
      "\n",
      "Example:\n",
      "    export GIT_PYTHON_REFRESH=quiet\n",
      "\n",
      "Successfully registered model 'clf-model'.\n",
      "2023/11/05 11:40:04 INFO mlflow.tracking._model_registry.client: Waiting up to 300 seconds for model version to finish creation. Model name: clf-model, version 1\n",
      "Created version '1' of model 'clf-model'.\n"
     ]
    }
   ],
   "source": [
    "from mlflow.tracking import MlflowClient\n",
    "client = MlflowClient()\n",
    "model_name = \"clf-model\"\n",
    "\n",
    "with mlflow.start_run() as run:\n",
    "  run_num = run.info.run_id\n",
    "  model_uri = \"runs:/{run_id}/{artifact_path}\".format(run_id=run_num, artifact_path=model_name)\n",
    "\n",
    "  mlflow.log_metric('accuracy_train', accuracy_train)\n",
    "  mlflow.sklearn.log_model(model, model_name)\n",
    "  #mlflow.sklearn.save_model(model, \"clf-model\")\n",
    "\n",
    "  model_details = mlflow.register_model(\n",
    "    model_uri=model_uri,\n",
    "    name=model_name)"
   ]
  },
  {
   "cell_type": "code",
   "execution_count": 18,
   "id": "a754bc59",
   "metadata": {},
   "outputs": [],
   "source": [
    "model_version_infos = client.search_model_versions(\"name = '%s'\" % model_name)\n",
    "new_model_version = max([model_version_info.version for model_version_info in model_version_infos])"
   ]
  },
  {
   "cell_type": "code",
   "execution_count": 19,
   "id": "26aea71a",
   "metadata": {},
   "outputs": [],
   "source": [
    "from mlflow.entities.model_registry.model_version_status import ModelVersionStatus\n",
    "\n",
    "def wait_model_transition(model_name, model_version, stage):\n",
    "  client = MlflowClient()\n",
    "  for _ in range(10):\n",
    "    model_version_details = client.get_model_version(\n",
    "      name=model_name,\n",
    "      version=model_version,\n",
    "    )\n",
    "    status = ModelVersionStatus.from_string(model_version_details.status)\n",
    "    print(\"Model status: %s\" % ModelVersionStatus.to_string(status))\n",
    "    if status == ModelVersionStatus.READY:\n",
    "      client.transition_model_version_stage(\n",
    "          name=model_name,\n",
    "          version=model_version,\n",
    "          stage=stage,\n",
    "        )\n",
    "      break\n",
    "    time.sleep(1)"
   ]
  },
  {
   "cell_type": "code",
   "execution_count": 20,
   "id": "78f6a7bb",
   "metadata": {},
   "outputs": [
    {
     "name": "stdout",
     "output_type": "stream",
     "text": [
      "Model status: READY\n"
     ]
    }
   ],
   "source": [
    "try:\n",
    "  wait_model_transition(model_name, int(new_model_version)-1, \"None\")\n",
    "except:\n",
    "  pass\n",
    "\n",
    "wait_model_transition(model_name, new_model_version, \"Staging\")"
   ]
  },
  {
   "cell_type": "code",
   "execution_count": 21,
   "id": "12ef4cd5",
   "metadata": {},
   "outputs": [
    {
     "data": {
      "text/plain": [
       "'1'"
      ]
     },
     "execution_count": 21,
     "metadata": {},
     "output_type": "execute_result"
    }
   ],
   "source": [
    "new_model_version"
   ]
  },
  {
   "cell_type": "code",
   "execution_count": 22,
   "id": "77243ae6",
   "metadata": {},
   "outputs": [
    {
     "data": {
      "text/plain": [
       "<ModelVersion: aliases=[], creation_timestamp=1699164604199, current_stage='Staging', description=('This model is a random forest classifier for the breast cancer dataset from '\n",
       " 'sklearn.'), last_updated_timestamp=1699164861235, name='clf-model', run_id='3088d8a43f3647119718e7c5def230bc', run_link='', source='mlflow-artifacts:/142079793624959880/3088d8a43f3647119718e7c5def230bc/artifacts/clf-model', status='READY', status_message='', tags={}, user_id='', version='1'>"
      ]
     },
     "execution_count": 22,
     "metadata": {},
     "output_type": "execute_result"
    }
   ],
   "source": [
    "client.update_model_version(\n",
    "  name=model_name,\n",
    "  version=new_model_version,\n",
    "  description=\"This model is a random forest classifier for the breast cancer dataset from sklearn.\"\n",
    ")"
   ]
  },
  {
   "cell_type": "markdown",
   "id": "12e2de0e",
   "metadata": {},
   "source": [
    "# Pulling a model from the registry."
   ]
  },
  {
   "cell_type": "code",
   "execution_count": 23,
   "id": "174177fb",
   "metadata": {},
   "outputs": [
    {
     "data": {
      "application/vnd.jupyter.widget-view+json": {
       "model_id": "0fcfc17782a54400979ecee48526b3de",
       "version_major": 2,
       "version_minor": 0
      },
      "text/plain": [
       "Downloading artifacts:   0%|          | 0/5 [00:00<?, ?it/s]"
      ]
     },
     "metadata": {},
     "output_type": "display_data"
    }
   ],
   "source": [
    "import mlflow.pyfunc\n",
    "\n",
    "model_name = \"clf-model\"\n",
    "stage = 'Staging'\n",
    "\n",
    "loaded_model = mlflow.pyfunc.load_model(\n",
    "    model_uri=f\"models:/{model_name}/{stage}\"\n",
    ")"
   ]
  },
  {
   "cell_type": "code",
   "execution_count": 24,
   "id": "35ecd97a",
   "metadata": {},
   "outputs": [
    {
     "data": {
      "text/plain": [
       "[0.1175,\n",
       " 0.0436,\n",
       " 0.9782,\n",
       " 1.0,\n",
       " 0.9543,\n",
       " 0.9721,\n",
       " 1.0,\n",
       " 0.9849,\n",
       " 0.0046,\n",
       " 0.9862,\n",
       " 1.0,\n",
       " 1.0,\n",
       " 0.9391,\n",
       " 1.0,\n",
       " 1.0,\n",
       " 0.0,\n",
       " 0.2641,\n",
       " 0.0222,\n",
       " 0.99,\n",
       " 0.5657,\n",
       " 0.0,\n",
       " 0.9409,\n",
       " 1.0,\n",
       " 0.0,\n",
       " 0.9538,\n",
       " 1.0,\n",
       " 1.0,\n",
       " 0.3482,\n",
       " 0.6295,\n",
       " 0.0165,\n",
       " 0.9058,\n",
       " 1.0,\n",
       " 0.9899,\n",
       " 0.9664,\n",
       " 1.0,\n",
       " 0.0373,\n",
       " 0.1512,\n",
       " 0.0158,\n",
       " 0.1526,\n",
       " 0.9873,\n",
       " 0.9447,\n",
       " 0.0,\n",
       " 1.0,\n",
       " 0.8492,\n",
       " 0.8259,\n",
       " 0.0271,\n",
       " 1.0,\n",
       " 0.872,\n",
       " 0.9535,\n",
       " 0.145,\n",
       " 0.0063,\n",
       " 0.7071,\n",
       " 0.8967,\n",
       " 1.0,\n",
       " 1.0,\n",
       " 0.959,\n",
       " 1.0,\n",
       " 0.0438,\n",
       " 0.9175,\n",
       " 0.0,\n",
       " 1.0,\n",
       " 0.0,\n",
       " 0.2998,\n",
       " 0.0,\n",
       " 0.0,\n",
       " 0.0163,\n",
       " 0.9936,\n",
       " 0.9873,\n",
       " 0.4898,\n",
       " 0.0369,\n",
       " 0.9762,\n",
       " 0.6766,\n",
       " 0.0136,\n",
       " 0.9512,\n",
       " 0.9301,\n",
       " 0.0,\n",
       " 0.9847,\n",
       " 1.0,\n",
       " 1.0,\n",
       " 0.0136,\n",
       " 1.0,\n",
       " 0.0036,\n",
       " 1.0,\n",
       " 0.0122,\n",
       " 1.0,\n",
       " 0.4494,\n",
       " 0.0136,\n",
       " 0.88,\n",
       " 0.0058,\n",
       " 0.9607,\n",
       " 0.8753,\n",
       " 0.99,\n",
       " 0.8679,\n",
       " 0.0727,\n",
       " 0.0,\n",
       " 0.3854,\n",
       " 0.0,\n",
       " 0.9386,\n",
       " 0.0,\n",
       " 0.0036,\n",
       " 1.0,\n",
       " 0.1579,\n",
       " 0.5473,\n",
       " 0.159,\n",
       " 0.9936,\n",
       " 0.0797,\n",
       " 0.9607,\n",
       " 1.0,\n",
       " 0.3536,\n",
       " 0.952,\n",
       " 0.3201,\n",
       " 0.0063,\n",
       " 0.9576,\n",
       " 1.0]"
      ]
     },
     "execution_count": 24,
     "metadata": {},
     "output_type": "execute_result"
    }
   ],
   "source": [
    "predicted_probs = loaded_model.predict(test[features])\n",
    "predicted_probs"
   ]
  },
  {
   "cell_type": "code",
   "execution_count": 25,
   "id": "a411358c",
   "metadata": {},
   "outputs": [
    {
     "data": {
      "text/plain": [
       "['  % Total    % Received % Xferd  Average Speed   Time    Time     Time  Current',\n",
       " '                                 Dload  Upload   Total   Spent    Left  Speed',\n",
       " '',\n",
       " '  0     0    0     0    0     0      0      0 --:--:-- --:--:-- --:--:--     0',\n",
       " '  0     0    0     0    0     0      0      0 --:--:--  0:00:01 --:--:--     0',\n",
       " '  0     0    0     0    0     0      0      0 --:--:--  0:00:02 --:--:--     0',\n",
       " '  0     0    0     0    0     0      0      0 --:--:--  0:00:02 --:--:--     0',\n",
       " \"curl: (7) Failed to connect to localhost port 1234 after 2251 ms: Couldn't connect to server\",\n",
       " '  % Total    % Received % Xferd  Average Speed   Time    Time     Time  Current',\n",
       " '                                 Dload  Upload   Total   Spent    Left  Speed',\n",
       " '',\n",
       " '  0     0    0     0    0     0      0      0 --:--:-- --:--:-- --:--:--     0',\n",
       " '  0     0    0     0    0     0      0      0 --:--:-- --:--:-- --:--:--     0',\n",
       " '  0     0    0     0    0     0      0      0 --:--:--  0:00:01 --:--:--     0',\n",
       " '  0     0    0     0    0     0      0      0 --:--:--  0:00:02 --:--:--     0curl: (6) Could not resolve host: text']"
      ]
     },
     "execution_count": 25,
     "metadata": {},
     "output_type": "execute_result"
    }
   ],
   "source": [
    "#Make sure model is served at port 1234\n",
    "api_response = !curl http://localhost:1234/invocations  -H 'Content-Type: text/csv' --data-binary @test.csv\n",
    "api_response"
   ]
  },
  {
   "cell_type": "code",
   "execution_count": 29,
   "id": "2d1ca78c",
   "metadata": {},
   "outputs": [],
   "source": [
    "mlflow.end_run()\n",
    "\n"
   ]
  },
  {
   "cell_type": "code",
   "execution_count": null,
   "id": "b3015191",
   "metadata": {},
   "outputs": [],
   "source": []
  }
 ],
 "metadata": {
  "kernelspec": {
   "display_name": "Python 3 (ipykernel)",
   "language": "python",
   "name": "python3"
  },
  "language_info": {
   "codemirror_mode": {
    "name": "ipython",
    "version": 3
   },
   "file_extension": ".py",
   "mimetype": "text/x-python",
   "name": "python",
   "nbconvert_exporter": "python",
   "pygments_lexer": "ipython3",
   "version": "3.11.0"
  }
 },
 "nbformat": 4,
 "nbformat_minor": 5
}
